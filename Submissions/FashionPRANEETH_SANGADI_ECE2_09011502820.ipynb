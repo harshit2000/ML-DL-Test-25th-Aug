{
  "cells": [
    {
      "cell_type": "code",
      "execution_count": null,
      "metadata": {
        "id": "NCXFINmu6pCK"
      },
      "outputs": [],
      "source": [
        "import tensorflow as tf\n",
        "from tensorflow import keras\n",
        "import matplotlib.pyplot as plt\n",
        "from tensorflow.keras.layers import *\n",
        "%matplotlib inline\n",
        "import numpy as np\n"
      ]
    },
    {
      "cell_type": "code",
      "execution_count": null,
      "metadata": {
        "id": "y4oBFsQL6w9F"
      },
      "outputs": [],
      "source": [
        "(x_train, y_train), (x_test, y_test) = tf.keras.datasets.fashion_mnist.load_data()"
      ]
    },
    {
      "cell_type": "code",
      "execution_count": null,
      "metadata": {
        "colab": {
          "base_uri": "https://localhost:8080/"
        },
        "id": "SKt9gzzF66dc",
        "outputId": "efaeb28e-4372-4b50-b4ec-4d5c87feab79"
      },
      "outputs": [
        {
          "name": "stdout",
          "output_type": "stream",
          "text": [
            "(60000, 28, 28) (10000, 28, 28) (60000,) (10000,)\n"
          ]
        }
      ],
      "source": [
        "print(x_train.shape, x_test.shape, y_train.shape, y_test.shape)"
      ]
    },
    {
      "cell_type": "code",
      "source": [],
      "metadata": {
        "id": "kGsVv5mOHXh_"
      },
      "execution_count": null,
      "outputs": []
    },
    {
      "cell_type": "code",
      "execution_count": null,
      "metadata": {
        "id": "uwzLtX2Q6_d1"
      },
      "outputs": [],
      "source": [
        "for i in range(5):\n",
        "  plt.imshow(x_train[i])\n",
        "  plt.xlabel(y_train[i])\n",
        "  plt.show()"
      ]
    },
    {
      "cell_type": "code",
      "execution_count": null,
      "metadata": {
        "id": "AZwkqDW27QR8"
      },
      "outputs": [],
      "source": [
        "x_train = keras.utils.normalize(x_train)\n",
        "x_test = keras.utils.normalize(x_test)"
      ]
    },
    {
      "cell_type": "code",
      "execution_count": null,
      "metadata": {
        "id": "bi0xRn6u-v6N"
      },
      "outputs": [],
      "source": [
        "x_train = x_train.reshape((x_train.shape[0], 28, 28, 1))\n",
        "x_test = x_test.reshape((x_test.shape[0], 28, 28, 1))"
      ]
    },
    {
      "cell_type": "code",
      "execution_count": null,
      "metadata": {
        "id": "dpw-L61w86pq"
      },
      "outputs": [],
      "source": [
        "items = [\"Tee\", \"Trouser\", \"Pullover\", \"dress\", \"coat\", \"sandal\", \"shirt\", \"sneaker \", \"bag\", \"boot\"]"
      ]
    },
    {
      "cell_type": "code",
      "execution_count": 27,
      "metadata": {
        "colab": {
          "base_uri": "https://localhost:8080/"
        },
        "id": "rityy9uG9Z6F",
        "outputId": "5f951c83-c215-4d49-fbaf-160186827c59"
      },
      "outputs": [
        {
          "output_type": "stream",
          "name": "stdout",
          "text": [
            "Epoch 1/5\n",
            "1875/1875 [==============================] - 62s 33ms/step - loss: 0.5462 - accuracy: 0.7962\n",
            "Epoch 2/5\n",
            "1875/1875 [==============================] - 51s 27ms/step - loss: 0.3697 - accuracy: 0.8633\n",
            "Epoch 3/5\n",
            "1875/1875 [==============================] - 52s 28ms/step - loss: 0.3245 - accuracy: 0.8794\n",
            "Epoch 4/5\n",
            "1875/1875 [==============================] - 52s 28ms/step - loss: 0.2957 - accuracy: 0.8894\n",
            "Epoch 5/5\n",
            "1875/1875 [==============================] - 51s 27ms/step - loss: 0.2740 - accuracy: 0.8974\n"
          ]
        },
        {
          "output_type": "execute_result",
          "data": {
            "text/plain": [
              "<keras.callbacks.History at 0x7fcf4befc810>"
            ]
          },
          "metadata": {},
          "execution_count": 27
        }
      ],
      "source": [
        "model = keras.models.Sequential()\n",
        "\n",
        "model.add(Conv2D(64, (3,3), input_shape = (28, 28, 1), activation = \"relu\"))\n",
        "model.add(MaxPooling2D(pool_size = (3,3)))\n",
        "\n",
        "model.add(Conv2D(64, (3,3), activation = \"relu\"))\n",
        "model.add(MaxPooling2D(pool_size = (3,3)))\n",
        "\n",
        "model.add(Flatten())\n",
        "\n",
        "model.add(Dense(1000))\n",
        "model.add(Activation(\"sigmoid\"))\n",
        "\n",
        "model.add(Dense(10))\n",
        "model.add(Activation(\"sigmoid\"))\n",
        "\n",
        "model.compile(optimizer='adam',\n",
        "            loss='sparse_categorical_crossentropy',\n",
        "            metrics=['accuracy'])\n",
        "\n",
        "model.fit(x_train, y_train, epochs=5)"
      ]
    },
    {
      "cell_type": "code",
      "execution_count": null,
      "metadata": {
        "colab": {
          "base_uri": "https://localhost:8080/"
        },
        "id": "Pe2uPaKb_nTt",
        "outputId": "938779a2-d13e-4611-fba6-5a632116c678"
      },
      "outputs": [
        {
          "name": "stdout",
          "output_type": "stream",
          "text": [
            "313/313 [==============================] - 5s 15ms/step - loss: 0.3512 - accuracy: 0.8687\n"
          ]
        },
        {
          "data": {
            "text/plain": [
              "[0.3511967658996582, 0.8687000274658203]"
            ]
          },
          "execution_count": 23,
          "metadata": {},
          "output_type": "execute_result"
        }
      ],
      "source": [
        "model.evaluate(x_test, y_test)"
      ]
    },
    {
      "cell_type": "code",
      "execution_count": null,
      "metadata": {
        "id": "kE-L5qtFBU06"
      },
      "outputs": [],
      "source": []
    }
  ],
  "metadata": {
    "colab": {
      "collapsed_sections": [],
      "name": "FashionPRANEETH_SANGADI_ECE2_09011502820.ipynb",
      "provenance": []
    },
    "kernelspec": {
      "display_name": "Python 3",
      "name": "python3"
    },
    "language_info": {
      "name": "python"
    }
  },
  "nbformat": 4,
  "nbformat_minor": 0
}