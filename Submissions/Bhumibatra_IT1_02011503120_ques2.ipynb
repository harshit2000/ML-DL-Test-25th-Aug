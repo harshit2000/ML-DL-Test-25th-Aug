{
  "nbformat": 4,
  "nbformat_minor": 0,
  "metadata": {
    "colab": {
      "name": "Bhumibatra IT1 02011503120 ques2.ipynb",
      "provenance": []
    },
    "kernelspec": {
      "name": "python3",
      "display_name": "Python 3"
    },
    "language_info": {
      "name": "python"
    }
  },
  "cells": [
    {
      "cell_type": "code",
      "execution_count": 1,
      "metadata": {
        "id": "dzgPAUpCDyWA"
      },
      "outputs": [],
      "source": [
        "import tensorflow as tf\n",
        "from tensorflow.keras import datasets, layers, models\n",
        "import matplotlib.pyplot as plt\n",
        "import numpy as np"
      ]
    },
    {
      "cell_type": "code",
      "source": [
        "fashion_mnist= datasets.fashion_mnist"
      ],
      "metadata": {
        "id": "ULd0rv5xECs9"
      },
      "execution_count": 2,
      "outputs": []
    },
    {
      "cell_type": "code",
      "source": [
        "(train_images, train_labels),(test_images,test_labels)= fashion_mnist.load_data()"
      ],
      "metadata": {
        "id": "oMfxv2lsEIdp"
      },
      "execution_count": 3,
      "outputs": []
    },
    {
      "cell_type": "code",
      "source": [
        "plt.imshow(train_images[1])"
      ],
      "metadata": {
        "colab": {
          "base_uri": "https://localhost:8080/",
          "height": 282
        },
        "id": "EiMFPTZTEzND",
        "outputId": "1fe31654-c9f3-4b9b-882b-10ebb87b6329"
      },
      "execution_count": 4,
      "outputs": [
        {
          "output_type": "execute_result",
          "data": {
            "text/plain": [
              "<matplotlib.image.AxesImage at 0x7f2d2703be90>"
            ]
          },
          "metadata": {},
          "execution_count": 4
        },
        {
          "output_type": "display_data",
          "data": {
            "text/plain": [
              "<Figure size 432x288 with 1 Axes>"
            ],
            "image/png": "[encoded data removed]"
          },
          "metadata": {
            "needs_background": "light"
          }
        }
      ]
    },
    {
      "cell_type": "code",
      "source": [
        "train_images= train_images/255.0\n",
        "test_images= test_images/255.0"
      ],
      "metadata": {
        "id": "WP0Waa4oEmXx"
      },
      "execution_count": 5,
      "outputs": []
    },
    {
      "cell_type": "code",
      "source": [
        "train_images[0].shape"
      ],
      "metadata": {
        "colab": {
          "base_uri": "https://localhost:8080/"
        },
        "id": "oRqsj8ymEqGn",
        "outputId": "f016089d-8304-4445-d46a-c068e806f426"
      },
      "execution_count": 6,
      "outputs": [
        {
          "output_type": "execute_result",
          "data": {
            "text/plain": [
              "(28, 28)"
            ]
          },
          "metadata": {},
          "execution_count": 6
        }
      ]
    },
    {
      "cell_type": "code",
      "source": [
        "train_images= train_images.reshape(len(train_images),28,28,1)\n",
        "test_images= test_images.reshape(len(test_images),28,28,1)"
      ],
      "metadata": {
        "id": "0ZlDT9PDEtUK"
      },
      "execution_count": 7,
      "outputs": []
    },
    {
      "cell_type": "code",
      "source": [
        "ann = models.Sequential([\n",
        "        layers.Flatten(input_shape=(28,28,1)),\n",
        "        layers.Dense(20, activation='relu'),\n",
        "        layers.Dense(20, activation='relu'),\n",
        "        layers.Dense(10, activation='softmax')    \n",
        "    ])\n",
        "\n",
        "ann.compile(optimizer='SGD',\n",
        "              loss='sparse_categorical_crossentropy',\n",
        "              metrics=['accuracy'])\n",
        "\n",
        "ann.fit(train_images, train_labels , epochs=10)"
      ],
      "metadata": {
        "colab": {
          "base_uri": "https://localhost:8080/"
        },
        "id": "LFzncjGrEvi-",
        "outputId": "165150fb-22ed-4829-c1a7-86820e77079c"
      },
      "execution_count": 8,
      "outputs": [
        {
          "output_type": "stream",
          "name": "stdout",
          "text": [
            "Epoch 1/10\n",
            "1875/1875 [==============================] - 3s 1ms/step - loss: 0.9223 - accuracy: 0.6854\n",
            "Epoch 2/10\n",
            "1875/1875 [==============================] - 3s 1ms/step - loss: 0.5552 - accuracy: 0.8041\n",
            "Epoch 3/10\n",
            "1875/1875 [==============================] - 3s 1ms/step - loss: 0.4999 - accuracy: 0.8228\n",
            "Epoch 4/10\n",
            "1875/1875 [==============================] - 3s 1ms/step - loss: 0.4719 - accuracy: 0.8330\n",
            "Epoch 5/10\n",
            "1875/1875 [==============================] - 3s 1ms/step - loss: 0.4548 - accuracy: 0.8391\n",
            "Epoch 6/10\n",
            "1875/1875 [==============================] - 3s 1ms/step - loss: 0.4391 - accuracy: 0.8463\n",
            "Epoch 7/10\n",
            "1875/1875 [==============================] - 3s 1ms/step - loss: 0.4269 - accuracy: 0.8494\n",
            "Epoch 8/10\n",
            "1875/1875 [==============================] - 3s 1ms/step - loss: 0.4188 - accuracy: 0.8523\n",
            "Epoch 9/10\n",
            "1875/1875 [==============================] - 3s 1ms/step - loss: 0.4088 - accuracy: 0.8561\n",
            "Epoch 10/10\n",
            "1875/1875 [==============================] - 3s 1ms/step - loss: 0.4018 - accuracy: 0.8586\n"
          ]
        },
        {
          "output_type": "execute_result",
          "data": {
            "text/plain": [
              "<keras.callbacks.History at 0x7f2d22299a90>"
            ]
          },
          "metadata": {},
          "execution_count": 8
        }
      ]
    },
    {
      "cell_type": "code",
      "source": [
        "ann.evaluate(test_images, test_labels)"
      ],
      "metadata": {
        "colab": {
          "base_uri": "https://localhost:8080/"
        },
        "id": "t09pKet4F3-I",
        "outputId": "0faf047e-767d-49ec-cf6c-331d58d369fc"
      },
      "execution_count": 10,
      "outputs": [
        {
          "output_type": "stream",
          "name": "stdout",
          "text": [
            "313/313 [==============================] - 1s 2ms/step - loss: 0.4516 - accuracy: 0.8413\n"
          ]
        },
        {
          "output_type": "execute_result",
          "data": {
            "text/plain": [
              "[0.45157426595687866, 0.8413000106811523]"
            ]
          },
          "metadata": {},
          "execution_count": 10
        }
      ]
    },
    {
      "cell_type": "code",
      "source": [
        "y_predicted= ann.predict(test_images)\n",
        "y_predicted_labels= [np.argmax(i) for i in y_predicted]\n",
        "cm= tf.math.confusion_matrix(labels= test_labels, predictions= y_predicted_labels)"
      ],
      "metadata": {
        "id": "4maDksaiGsz6"
      },
      "execution_count": 12,
      "outputs": []
    },
    {
      "cell_type": "code",
      "source": [
        "cm"
      ],
      "metadata": {
        "colab": {
          "base_uri": "https://localhost:8080/"
        },
        "id": "7Gt0BmbMHJLR",
        "outputId": "764b39b4-091e-4ee8-b137-9b28044cc3b6"
      },
      "execution_count": 13,
      "outputs": [
        {
          "output_type": "execute_result",
          "data": {
            "text/plain": [
              "<tf.Tensor: shape=(10, 10), dtype=int32, numpy=\n",
              "array([[821,   3,  20,  54,   2,   0,  91,   0,   8,   1],\n",
              "       [  2, 957,   4,  31,   2,   0,   4,   0,   0,   0],\n",
              "       [ 19,   3, 811,  13,  62,   1,  88,   0,   3,   0],\n",
              "       [ 28,  10,  15, 890,  25,   0,  29,   0,   3,   0],\n",
              "       [  0,   4, 213,  47, 631,   1,  97,   0,   7,   0],\n",
              "       [  0,   0,   0,   2,   0, 902,   0,  62,   3,  31],\n",
              "       [163,   1, 142,  42,  56,   1, 581,   0,  14,   0],\n",
              "       [  0,   0,   0,   0,   0,  18,   0, 963,   0,  19],\n",
              "       [  5,   1,  19,  12,   5,   6,  17,   8, 927,   0],\n",
              "       [  0,   0,   0,   0,   0,   9,   1,  60,   0, 930]], dtype=int32)>"
            ]
          },
          "metadata": {},
          "execution_count": 13
        }
      ]
    },
    {
      "cell_type": "code",
      "source": [],
      "metadata": {
        "id": "3zyYmjXjH2bG"
      },
      "execution_count": null,
      "outputs": []
    }
  ]
}