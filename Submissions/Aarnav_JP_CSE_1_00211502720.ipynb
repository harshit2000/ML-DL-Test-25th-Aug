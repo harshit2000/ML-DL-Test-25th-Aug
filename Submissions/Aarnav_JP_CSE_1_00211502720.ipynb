{
  "nbformat": 4,
  "nbformat_minor": 0,
  "metadata": {
    "colab": {
      "name": "Aarnav JP_CSE-1_00211502720.ipynb",
      "provenance": [],
      "collapsed_sections": []
    },
    "kernelspec": {
      "name": "python3",
      "display_name": "Python 3"
    },
    "language_info": {
      "name": "python"
    }
  },
  "cells": [
    {
      "cell_type": "code",
      "execution_count": 43,
      "metadata": {
        "id": "JMq9_tec2R-1"
      },
      "outputs": [],
      "source": [
        "path = '/content/drive/MyDrive/data set/Churn_Modelling.csv'\n"
      ]
    },
    {
      "cell_type": "code",
      "source": [
        "import numpy as np # linear algebra\n",
        "import pandas as pd"
      ],
      "metadata": {
        "id": "eqbuMw6N-QRS"
      },
      "execution_count": 44,
      "outputs": []
    },
    {
      "cell_type": "code",
      "source": [
        "import matplotlib.pyplot as plt\n",
        "import tensorflow as tf\n",
        "from tensorflow import keras\n",
        "import warnings\n",
        "warnings.filterwarnings('ignore')"
      ],
      "metadata": {
        "id": "RVX8BpAQ-Tmb"
      },
      "execution_count": 45,
      "outputs": []
    },
    {
      "cell_type": "code",
      "source": [
        "df_churn = pd.read_csv(path)\n",
        "df_churn.head()"
      ],
      "metadata": {
        "colab": {
          "base_uri": "https://localhost:8080/",
          "height": 268
        },
        "id": "vpkilsnD-dJB",
        "outputId": "07a859a0-8224-49b6-c8eb-60a0ff0bfff7"
      },
      "execution_count": 46,
      "outputs": [
        {
          "output_type": "execute_result",
          "data": {
            "text/plain": [
              "   RowNumber  CustomerId   Surname  CreditScore Geography  Gender  Age  \\\n",
              "0          1    15634602  Hargrave          619    France  Female   42   \n",
              "1          2    15647311      Hill          608     Spain  Female   41   \n",
              "2          3    15619304      Onio          502    France  Female   42   \n",
              "3          4    15701354      Boni          699    France  Female   39   \n",
              "4          5    15737888  Mitchell          850     Spain  Female   43   \n",
              "\n",
              "   Tenure    Balance  NumOfProducts  HasCrCard  IsActiveMember  \\\n",
              "0       2       0.00              1          1               1   \n",
              "1       1   83807.86              1          0               1   \n",
              "2       8  159660.80              3          1               0   \n",
              "3       1       0.00              2          0               0   \n",
              "4       2  125510.82              1          1               1   \n",
              "\n",
              "   EstimatedSalary  Exited  \n",
              "0        101348.88       1  \n",
              "1        112542.58       0  \n",
              "2        113931.57       1  \n",
              "3         93826.63       0  \n",
              "4         79084.10       0  "
            ],
            "text/html": [
              "\n",
              "  <div id=\"df-cb83801d-39f7-42bb-9053-cc9ea437b079\">\n",
              "    <div class=\"colab-df-container\">\n",
              "      <div>\n",
              "<style scoped>\n",
              "    .dataframe tbody tr th:only-of-type {\n",
              "        vertical-align: middle;\n",
              "    }\n",
              "\n",
              "    .dataframe tbody tr th {\n",
              "        vertical-align: top;\n",
              "    }\n",
              "\n",
              "    .dataframe thead th {\n",
              "        text-align: right;\n",
              "    }\n",
              "</style>\n",
              "<table border=\"1\" class=\"dataframe\">\n",
              "  <thead>\n",
              "    <tr style=\"text-align: right;\">\n",
              "      <th></th>\n",
              "      <th>RowNumber</th>\n",
              "      <th>CustomerId</th>\n",
              "      <th>Surname</th>\n",
              "      <th>CreditScore</th>\n",
              "      <th>Geography</th>\n",
              "      <th>Gender</th>\n",
              "      <th>Age</th>\n",
              "      <th>Tenure</th>\n",
              "      <th>Balance</th>\n",
              "      <th>NumOfProducts</th>\n",
              "      <th>HasCrCard</th>\n",
              "      <th>IsActiveMember</th>\n",
              "      <th>EstimatedSalary</th>\n",
              "      <th>Exited</th>\n",
              "    </tr>\n",
              "  </thead>\n",
              "  <tbody>\n",
              "    <tr>\n",
              "      <th>0</th>\n",
              "      <td>1</td>\n",
              "      <td>15634602</td>\n",
              "      <td>Hargrave</td>\n",
              "      <td>619</td>\n",
              "      <td>France</td>\n",
              "      <td>Female</td>\n",
              "      <td>42</td>\n",
              "      <td>2</td>\n",
              "      <td>0.00</td>\n",
              "      <td>1</td>\n",
              "      <td>1</td>\n",
              "      <td>1</td>\n",
              "      <td>101348.88</td>\n",
              "      <td>1</td>\n",
              "    </tr>\n",
              "    <tr>\n",
              "      <th>1</th>\n",
              "      <td>2</td>\n",
              "      <td>15647311</td>\n",
              "      <td>Hill</td>\n",
              "      <td>608</td>\n",
              "      <td>Spain</td>\n",
              "      <td>Female</td>\n",
              "      <td>41</td>\n",
              "      <td>1</td>\n",
              "      <td>83807.86</td>\n",
              "      <td>1</td>\n",
              "      <td>0</td>\n",
              "      <td>1</td>\n",
              "      <td>112542.58</td>\n",
              "      <td>0</td>\n",
              "    </tr>\n",
              "    <tr>\n",
              "      <th>2</th>\n",
              "      <td>3</td>\n",
              "      <td>15619304</td>\n",
              "      <td>Onio</td>\n",
              "      <td>502</td>\n",
              "      <td>France</td>\n",
              "      <td>Female</td>\n",
              "      <td>42</td>\n",
              "      <td>8</td>\n",
              "      <td>159660.80</td>\n",
              "      <td>3</td>\n",
              "      <td>1</td>\n",
              "      <td>0</td>\n",
              "      <td>113931.57</td>\n",
              "      <td>1</td>\n",
              "    </tr>\n",
              "    <tr>\n",
              "      <th>3</th>\n",
              "      <td>4</td>\n",
              "      <td>15701354</td>\n",
              "      <td>Boni</td>\n",
              "      <td>699</td>\n",
              "      <td>France</td>\n",
              "      <td>Female</td>\n",
              "      <td>39</td>\n",
              "      <td>1</td>\n",
              "      <td>0.00</td>\n",
              "      <td>2</td>\n",
              "      <td>0</td>\n",
              "      <td>0</td>\n",
              "      <td>93826.63</td>\n",
              "      <td>0</td>\n",
              "    </tr>\n",
              "    <tr>\n",
              "      <th>4</th>\n",
              "      <td>5</td>\n",
              "      <td>15737888</td>\n",
              "      <td>Mitchell</td>\n",
              "      <td>850</td>\n",
              "      <td>Spain</td>\n",
              "      <td>Female</td>\n",
              "      <td>43</td>\n",
              "      <td>2</td>\n",
              "      <td>125510.82</td>\n",
              "      <td>1</td>\n",
              "      <td>1</td>\n",
              "      <td>1</td>\n",
              "      <td>79084.10</td>\n",
              "      <td>0</td>\n",
              "    </tr>\n",
              "  </tbody>\n",
              "</table>\n",
              "</div>\n",
              "      <button class=\"colab-df-convert\" onclick=\"convertToInteractive('df-cb83801d-39f7-42bb-9053-cc9ea437b079')\"\n",
              "              title=\"Convert this dataframe to an interactive table.\"\n",
              "              style=\"display:none;\">\n",
              "        \n",
              "  <svg xmlns=\"http://www.w3.org/2000/svg\" height=\"24px\"viewBox=\"0 0 24 24\"\n",
              "       width=\"24px\">\n",
              "    <path d=\"M0 0h24v24H0V0z\" fill=\"none\"/>\n",
              "    <path d=\"M18.56 5.44l.94 2.06.94-2.06 2.06-.94-2.06-.94-.94-2.06-.94 2.06-2.06.94zm-11 1L8.5 8.5l.94-2.06 2.06-.94-2.06-.94L8.5 2.5l-.94 2.06-2.06.94zm10 10l.94 2.06.94-2.06 2.06-.94-2.06-.94-.94-2.06-.94 2.06-2.06.94z\"/><path d=\"M17.41 7.96l-1.37-1.37c-.4-.4-.92-.59-1.43-.59-.52 0-1.04.2-1.43.59L10.3 9.45l-7.72 7.72c-.78.78-.78 2.05 0 2.83L4 21.41c.39.39.9.59 1.41.59.51 0 1.02-.2 1.41-.59l7.78-7.78 2.81-2.81c.8-.78.8-2.07 0-2.86zM5.41 20L4 18.59l7.72-7.72 1.47 1.35L5.41 20z\"/>\n",
              "  </svg>\n",
              "      </button>\n",
              "      \n",
              "  <style>\n",
              "    .colab-df-container {\n",
              "      display:flex;\n",
              "      flex-wrap:wrap;\n",
              "      gap: 12px;\n",
              "    }\n",
              "\n",
              "    .colab-df-convert {\n",
              "      background-color: #E8F0FE;\n",
              "      border: none;\n",
              "      border-radius: 50%;\n",
              "      cursor: pointer;\n",
              "      display: none;\n",
              "      fill: #1967D2;\n",
              "      height: 32px;\n",
              "      padding: 0 0 0 0;\n",
              "      width: 32px;\n",
              "    }\n",
              "\n",
              "    .colab-df-convert:hover {\n",
              "      background-color: #E2EBFA;\n",
              "      box-shadow: 0px 1px 2px rgba(60, 64, 67, 0.3), 0px 1px 3px 1px rgba(60, 64, 67, 0.15);\n",
              "      fill: #174EA6;\n",
              "    }\n",
              "\n",
              "    [theme=dark] .colab-df-convert {\n",
              "      background-color: #3B4455;\n",
              "      fill: #D2E3FC;\n",
              "    }\n",
              "\n",
              "    [theme=dark] .colab-df-convert:hover {\n",
              "      background-color: #434B5C;\n",
              "      box-shadow: 0px 1px 3px 1px rgba(0, 0, 0, 0.15);\n",
              "      filter: drop-shadow(0px 1px 2px rgba(0, 0, 0, 0.3));\n",
              "      fill: #FFFFFF;\n",
              "    }\n",
              "  </style>\n",
              "\n",
              "      <script>\n",
              "        const buttonEl =\n",
              "          document.querySelector('#df-cb83801d-39f7-42bb-9053-cc9ea437b079 button.colab-df-convert');\n",
              "        buttonEl.style.display =\n",
              "          google.colab.kernel.accessAllowed ? 'block' : 'none';\n",
              "\n",
              "        async function convertToInteractive(key) {\n",
              "          const element = document.querySelector('#df-cb83801d-39f7-42bb-9053-cc9ea437b079');\n",
              "          const dataTable =\n",
              "            await google.colab.kernel.invokeFunction('convertToInteractive',\n",
              "                                                     [key], {});\n",
              "          if (!dataTable) return;\n",
              "\n",
              "          const docLinkHtml = 'Like what you see? Visit the ' +\n",
              "            '<a target=\"_blank\" href=https://colab.research.google.com/notebooks/data_table.ipynb>data table notebook</a>'\n",
              "            + ' to learn more about interactive tables.';\n",
              "          element.innerHTML = '';\n",
              "          dataTable['output_type'] = 'display_data';\n",
              "          await google.colab.output.renderOutput(dataTable, element);\n",
              "          const docLink = document.createElement('div');\n",
              "          docLink.innerHTML = docLinkHtml;\n",
              "          element.appendChild(docLink);\n",
              "        }\n",
              "      </script>\n",
              "    </div>\n",
              "  </div>\n",
              "  "
            ]
          },
          "metadata": {},
          "execution_count": 46
        }
      ]
    },
    {
      "cell_type": "code",
      "source": [
        "df_churn.drop(['RowNumber','Surname'], axis = 'columns', inplace =True)"
      ],
      "metadata": {
        "id": "0TYpRwXR-i30"
      },
      "execution_count": 47,
      "outputs": []
    },
    {
      "cell_type": "code",
      "source": [
        "df_churn.isna().sum()"
      ],
      "metadata": {
        "colab": {
          "base_uri": "https://localhost:8080/"
        },
        "id": "c-Lap2-s-lSX",
        "outputId": "3f0235cd-b073-40e6-c345-ad006c7e65b1"
      },
      "execution_count": 48,
      "outputs": [
        {
          "output_type": "execute_result",
          "data": {
            "text/plain": [
              "CustomerId         0\n",
              "CreditScore        0\n",
              "Geography          0\n",
              "Gender             0\n",
              "Age                0\n",
              "Tenure             0\n",
              "Balance            0\n",
              "NumOfProducts      0\n",
              "HasCrCard          0\n",
              "IsActiveMember     0\n",
              "EstimatedSalary    0\n",
              "Exited             0\n",
              "dtype: int64"
            ]
          },
          "metadata": {},
          "execution_count": 48
        }
      ]
    },
    {
      "cell_type": "code",
      "source": [
        "col_obj = ['Geography', 'Gender']"
      ],
      "metadata": {
        "id": "F5LCDrlBAHSB"
      },
      "execution_count": 49,
      "outputs": []
    },
    {
      "cell_type": "code",
      "source": [
        "for col in df_churn:\n",
        "    if (col in col_obj):\n",
        "        print(col,\":\",df_churn[col].unique())"
      ],
      "metadata": {
        "colab": {
          "base_uri": "https://localhost:8080/"
        },
        "id": "3ochUTgaAJiT",
        "outputId": "4f007f37-7f64-471b-f93a-4adf6f5c73c3"
      },
      "execution_count": 50,
      "outputs": [
        {
          "output_type": "stream",
          "name": "stdout",
          "text": [
            "Geography : ['France' 'Spain' 'Germany']\n",
            "Gender : ['Female' 'Male']\n"
          ]
        }
      ]
    },
    {
      "cell_type": "code",
      "source": [
        "df_churn['Gender'].replace(['Male', 'Female'],[1, 0], inplace= True)"
      ],
      "metadata": {
        "id": "BAdhErRoALWm"
      },
      "execution_count": 51,
      "outputs": []
    },
    {
      "cell_type": "code",
      "source": [
        "df_churn = pd.get_dummies(data = df_churn, columns=['Geography'])\n",
        "df_churn.columns"
      ],
      "metadata": {
        "colab": {
          "base_uri": "https://localhost:8080/"
        },
        "id": "GHSlSN0NAN_V",
        "outputId": "7cb55b63-7b17-4761-fff0-7b30edc17835"
      },
      "execution_count": 52,
      "outputs": [
        {
          "output_type": "execute_result",
          "data": {
            "text/plain": [
              "Index(['CustomerId', 'CreditScore', 'Gender', 'Age', 'Tenure', 'Balance',\n",
              "       'NumOfProducts', 'HasCrCard', 'IsActiveMember', 'EstimatedSalary',\n",
              "       'Exited', 'Geography_France', 'Geography_Germany', 'Geography_Spain'],\n",
              "      dtype='object')"
            ]
          },
          "metadata": {},
          "execution_count": 52
        }
      ]
    },
    {
      "cell_type": "code",
      "source": [
        "df_churn['Exited'].value_counts()"
      ],
      "metadata": {
        "colab": {
          "base_uri": "https://localhost:8080/"
        },
        "id": "QF-MaO0eAQMY",
        "outputId": "6ef34edd-d7d8-4c85-dc89-5040175b20c9"
      },
      "execution_count": 53,
      "outputs": [
        {
          "output_type": "execute_result",
          "data": {
            "text/plain": [
              "0    7963\n",
              "1    2037\n",
              "Name: Exited, dtype: int64"
            ]
          },
          "metadata": {},
          "execution_count": 53
        }
      ]
    },
    {
      "cell_type": "code",
      "source": [
        "df_churn_exited = df_churn[df_churn['Exited']==1]['Tenure']\n",
        "df_churn_not_exited = df_churn[df_churn['Exited']==0]['Tenure']"
      ],
      "metadata": {
        "id": "3c5Msj9VATPV"
      },
      "execution_count": 54,
      "outputs": []
    },
    {
      "cell_type": "code",
      "source": [
        "def visualization(x, y, xlabel):\n",
        "    plt.figure(figsize=(10,5))\n",
        "    plt.hist([x, y], color=['red', 'green'], label = ['exit', 'not_exit'])\n",
        "    plt.xlabel(xlabel,fontsize=20)\n",
        "    plt.ylabel(\"No. of customers\", fontsize=20)\n",
        "    plt.legend()"
      ],
      "metadata": {
        "id": "Ym8S7cbJAVfa"
      },
      "execution_count": 55,
      "outputs": []
    },
    {
      "cell_type": "code",
      "source": [
        "visualization(df_churn_exited, df_churn_not_exited, \"Tenure\")"
      ],
      "metadata": {
        "colab": {
          "base_uri": "https://localhost:8080/",
          "height": 343
        },
        "id": "pyx-UK4jAXJL",
        "outputId": "666fa903-3fc3-4180-80e7-421514789958"
      },
      "execution_count": 56,
      "outputs": [
        {
          "output_type": "display_data",
          "data": {
            "text/plain": [
              "<Figure size 720x360 with 1 Axes>"
            ],
            "image/png": "[encoded data removed]"
          },
          "metadata": {
            "needs_background": "light"
          }
        }
      ]
    },
    {
      "cell_type": "code",
      "source": [
        "df_churn_exited2 = df_churn[df_churn['Exited']==1]['Age']\n",
        "df_churn_not_exited2 = df_churn[df_churn['Exited']==0]['Age']"
      ],
      "metadata": {
        "id": "fseebmHPAdKV"
      },
      "execution_count": 57,
      "outputs": []
    },
    {
      "cell_type": "code",
      "source": [
        "visualization(df_churn_exited2, df_churn_not_exited2, \"Age\")"
      ],
      "metadata": {
        "colab": {
          "base_uri": "https://localhost:8080/",
          "height": 343
        },
        "id": "_dGSmwqyAe27",
        "outputId": "2d3ec081-e09b-419d-e0dd-b6042c0bd191"
      },
      "execution_count": 58,
      "outputs": [
        {
          "output_type": "display_data",
          "data": {
            "text/plain": [
              "<Figure size 720x360 with 1 Axes>"
            ],
            "image/png": "[encoded data removed]"
          },
          "metadata": {
            "needs_background": "light"
          }
        }
      ]
    },
    {
      "cell_type": "code",
      "source": [
        "cols_to_scale = ['CustomerId','CreditScore', 'Age','Tenure', 'Balance', 'NumOfProducts', 'EstimatedSalary']"
      ],
      "metadata": {
        "id": "IKLgPaEpAhUO"
      },
      "execution_count": 59,
      "outputs": []
    },
    {
      "cell_type": "code",
      "source": [
        "from sklearn.preprocessing import MinMaxScaler\n",
        "scaler = MinMaxScaler()\n",
        "df_churn[cols_to_scale] = scaler.fit_transform(df_churn[cols_to_scale])"
      ],
      "metadata": {
        "id": "lkwNi02EAjps"
      },
      "execution_count": 60,
      "outputs": []
    },
    {
      "cell_type": "code",
      "source": [
        "x = df_churn.drop('Exited', axis= 'columns')\n",
        "y = df_churn['Exited']"
      ],
      "metadata": {
        "id": "WqKXTkjcAlhA"
      },
      "execution_count": 61,
      "outputs": []
    },
    {
      "cell_type": "code",
      "source": [
        "from sklearn.model_selection import train_test_split\n",
        "x_train, x_test, y_train, y_test = train_test_split(x,y, test_size= 0.2, random_state =1)"
      ],
      "metadata": {
        "id": "6WZDyvnKAoUr"
      },
      "execution_count": 62,
      "outputs": []
    },
    {
      "cell_type": "code",
      "source": [
        "model = keras.Sequential([\n",
        "    keras.layers.Dense(13, input_shape=(13,),activation='relu'),\n",
        "    keras.layers.Dense(15, activation='relu'),\n",
        "    keras.layers.Dense(1, activation='sigmoid')\n",
        "])\n",
        "\n",
        "model.compile(optimizer='adam',\n",
        "              loss='binary_crossentropy',\n",
        "              metrics=['accuracy'])\n",
        "\n",
        "model.fit(x_train, y_train, epochs=100)"
      ],
      "metadata": {
        "colab": {
          "base_uri": "https://localhost:8080/"
        },
        "id": "cS_6Ptj7AqB_",
        "outputId": "0d0df7c2-2cdc-4d45-e59c-c02d40487852"
      },
      "execution_count": 63,
      "outputs": [
        {
          "output_type": "stream",
          "name": "stdout",
          "text": [
            "Epoch 1/100\n",
            "250/250 [==============================] - 1s 2ms/step - loss: 0.5463 - accuracy: 0.7491\n",
            "Epoch 2/100\n",
            "250/250 [==============================] - 0s 2ms/step - loss: 0.4786 - accuracy: 0.7972\n",
            "Epoch 3/100\n",
            "250/250 [==============================] - 0s 2ms/step - loss: 0.4649 - accuracy: 0.7972\n",
            "Epoch 4/100\n",
            "250/250 [==============================] - 0s 2ms/step - loss: 0.4460 - accuracy: 0.8064\n",
            "Epoch 5/100\n",
            "250/250 [==============================] - 0s 2ms/step - loss: 0.4271 - accuracy: 0.8163\n",
            "Epoch 6/100\n",
            "250/250 [==============================] - 0s 2ms/step - loss: 0.4070 - accuracy: 0.8270\n",
            "Epoch 7/100\n",
            "250/250 [==============================] - 0s 2ms/step - loss: 0.3891 - accuracy: 0.8332\n",
            "Epoch 8/100\n",
            "250/250 [==============================] - 0s 2ms/step - loss: 0.3785 - accuracy: 0.8416\n",
            "Epoch 9/100\n",
            "250/250 [==============================] - 0s 2ms/step - loss: 0.3717 - accuracy: 0.8439\n",
            "Epoch 10/100\n",
            "250/250 [==============================] - 0s 2ms/step - loss: 0.3684 - accuracy: 0.8439\n",
            "Epoch 11/100\n",
            "250/250 [==============================] - 0s 2ms/step - loss: 0.3642 - accuracy: 0.8474\n",
            "Epoch 12/100\n",
            "250/250 [==============================] - 0s 2ms/step - loss: 0.3630 - accuracy: 0.8469\n",
            "Epoch 13/100\n",
            "250/250 [==============================] - 0s 2ms/step - loss: 0.3609 - accuracy: 0.8484\n",
            "Epoch 14/100\n",
            "250/250 [==============================] - 1s 2ms/step - loss: 0.3603 - accuracy: 0.8496\n",
            "Epoch 15/100\n",
            "250/250 [==============================] - 1s 4ms/step - loss: 0.3585 - accuracy: 0.8509\n",
            "Epoch 16/100\n",
            "250/250 [==============================] - 1s 3ms/step - loss: 0.3573 - accuracy: 0.8518\n",
            "Epoch 17/100\n",
            "250/250 [==============================] - 1s 4ms/step - loss: 0.3571 - accuracy: 0.8506\n",
            "Epoch 18/100\n",
            "250/250 [==============================] - 1s 2ms/step - loss: 0.3554 - accuracy: 0.8497\n",
            "Epoch 19/100\n",
            "250/250 [==============================] - 1s 4ms/step - loss: 0.3556 - accuracy: 0.8528\n",
            "Epoch 20/100\n",
            "250/250 [==============================] - 0s 2ms/step - loss: 0.3541 - accuracy: 0.8520\n",
            "Epoch 21/100\n",
            "250/250 [==============================] - 0s 2ms/step - loss: 0.3525 - accuracy: 0.8525\n",
            "Epoch 22/100\n",
            "250/250 [==============================] - 0s 2ms/step - loss: 0.3528 - accuracy: 0.8541\n",
            "Epoch 23/100\n",
            "250/250 [==============================] - 0s 2ms/step - loss: 0.3512 - accuracy: 0.8546\n",
            "Epoch 24/100\n",
            "250/250 [==============================] - 0s 2ms/step - loss: 0.3507 - accuracy: 0.8555\n",
            "Epoch 25/100\n",
            "250/250 [==============================] - 0s 2ms/step - loss: 0.3502 - accuracy: 0.8554\n",
            "Epoch 26/100\n",
            "250/250 [==============================] - 0s 2ms/step - loss: 0.3495 - accuracy: 0.8539\n",
            "Epoch 27/100\n",
            "250/250 [==============================] - 0s 2ms/step - loss: 0.3493 - accuracy: 0.8561\n",
            "Epoch 28/100\n",
            "250/250 [==============================] - 0s 2ms/step - loss: 0.3469 - accuracy: 0.8545\n",
            "Epoch 29/100\n",
            "250/250 [==============================] - 0s 2ms/step - loss: 0.3466 - accuracy: 0.8544\n",
            "Epoch 30/100\n",
            "250/250 [==============================] - 0s 2ms/step - loss: 0.3454 - accuracy: 0.8585\n",
            "Epoch 31/100\n",
            "250/250 [==============================] - 0s 2ms/step - loss: 0.3449 - accuracy: 0.8590\n",
            "Epoch 32/100\n",
            "250/250 [==============================] - 1s 4ms/step - loss: 0.3435 - accuracy: 0.8593\n",
            "Epoch 33/100\n",
            "250/250 [==============================] - 0s 2ms/step - loss: 0.3441 - accuracy: 0.8576\n",
            "Epoch 34/100\n",
            "250/250 [==============================] - 0s 2ms/step - loss: 0.3423 - accuracy: 0.8597\n",
            "Epoch 35/100\n",
            "250/250 [==============================] - 0s 2ms/step - loss: 0.3417 - accuracy: 0.8584\n",
            "Epoch 36/100\n",
            "250/250 [==============================] - 0s 2ms/step - loss: 0.3408 - accuracy: 0.8591\n",
            "Epoch 37/100\n",
            "250/250 [==============================] - 0s 2ms/step - loss: 0.3409 - accuracy: 0.8597\n",
            "Epoch 38/100\n",
            "250/250 [==============================] - 0s 2ms/step - loss: 0.3395 - accuracy: 0.8594\n",
            "Epoch 39/100\n",
            "250/250 [==============================] - 0s 2ms/step - loss: 0.3390 - accuracy: 0.8589\n",
            "Epoch 40/100\n",
            "250/250 [==============================] - 0s 2ms/step - loss: 0.3378 - accuracy: 0.8602\n",
            "Epoch 41/100\n",
            "250/250 [==============================] - 0s 2ms/step - loss: 0.3380 - accuracy: 0.8605\n",
            "Epoch 42/100\n",
            "250/250 [==============================] - 0s 2ms/step - loss: 0.3365 - accuracy: 0.8612\n",
            "Epoch 43/100\n",
            "250/250 [==============================] - 0s 2ms/step - loss: 0.3368 - accuracy: 0.8597\n",
            "Epoch 44/100\n",
            "250/250 [==============================] - 0s 2ms/step - loss: 0.3358 - accuracy: 0.8616\n",
            "Epoch 45/100\n",
            "250/250 [==============================] - 0s 2ms/step - loss: 0.3359 - accuracy: 0.8630\n",
            "Epoch 46/100\n",
            "250/250 [==============================] - 0s 2ms/step - loss: 0.3356 - accuracy: 0.8604\n",
            "Epoch 47/100\n",
            "250/250 [==============================] - 0s 2ms/step - loss: 0.3345 - accuracy: 0.8625\n",
            "Epoch 48/100\n",
            "250/250 [==============================] - 0s 2ms/step - loss: 0.3342 - accuracy: 0.8609\n",
            "Epoch 49/100\n",
            "250/250 [==============================] - 0s 2ms/step - loss: 0.3334 - accuracy: 0.8612\n",
            "Epoch 50/100\n",
            "250/250 [==============================] - 0s 2ms/step - loss: 0.3339 - accuracy: 0.8616\n",
            "Epoch 51/100\n",
            "250/250 [==============================] - 0s 2ms/step - loss: 0.3329 - accuracy: 0.8618\n",
            "Epoch 52/100\n",
            "250/250 [==============================] - 0s 2ms/step - loss: 0.3323 - accuracy: 0.8615\n",
            "Epoch 53/100\n",
            "250/250 [==============================] - 0s 2ms/step - loss: 0.3332 - accuracy: 0.8615\n",
            "Epoch 54/100\n",
            "250/250 [==============================] - 0s 2ms/step - loss: 0.3325 - accuracy: 0.8614\n",
            "Epoch 55/100\n",
            "250/250 [==============================] - 0s 2ms/step - loss: 0.3317 - accuracy: 0.8616\n",
            "Epoch 56/100\n",
            "250/250 [==============================] - 0s 2ms/step - loss: 0.3316 - accuracy: 0.8635\n",
            "Epoch 57/100\n",
            "250/250 [==============================] - 0s 2ms/step - loss: 0.3325 - accuracy: 0.8612\n",
            "Epoch 58/100\n",
            "250/250 [==============================] - 0s 2ms/step - loss: 0.3328 - accuracy: 0.8630\n",
            "Epoch 59/100\n",
            "250/250 [==============================] - 0s 2ms/step - loss: 0.3304 - accuracy: 0.8629\n",
            "Epoch 60/100\n",
            "250/250 [==============================] - 0s 2ms/step - loss: 0.3316 - accuracy: 0.8614\n",
            "Epoch 61/100\n",
            "250/250 [==============================] - 0s 2ms/step - loss: 0.3300 - accuracy: 0.8627\n",
            "Epoch 62/100\n",
            "250/250 [==============================] - 0s 2ms/step - loss: 0.3303 - accuracy: 0.8641\n",
            "Epoch 63/100\n",
            "250/250 [==============================] - 0s 2ms/step - loss: 0.3299 - accuracy: 0.8621\n",
            "Epoch 64/100\n",
            "250/250 [==============================] - 0s 2ms/step - loss: 0.3297 - accuracy: 0.8643\n",
            "Epoch 65/100\n",
            "250/250 [==============================] - 0s 2ms/step - loss: 0.3294 - accuracy: 0.8634\n",
            "Epoch 66/100\n",
            "250/250 [==============================] - 0s 2ms/step - loss: 0.3292 - accuracy: 0.8627\n",
            "Epoch 67/100\n",
            "250/250 [==============================] - 0s 2ms/step - loss: 0.3288 - accuracy: 0.8631\n",
            "Epoch 68/100\n",
            "250/250 [==============================] - 0s 2ms/step - loss: 0.3286 - accuracy: 0.8674\n",
            "Epoch 69/100\n",
            "250/250 [==============================] - 0s 2ms/step - loss: 0.3300 - accuracy: 0.8646\n",
            "Epoch 70/100\n",
            "250/250 [==============================] - 0s 2ms/step - loss: 0.3292 - accuracy: 0.8627\n",
            "Epoch 71/100\n",
            "250/250 [==============================] - 0s 2ms/step - loss: 0.3278 - accuracy: 0.8634\n",
            "Epoch 72/100\n",
            "250/250 [==============================] - 0s 2ms/step - loss: 0.3286 - accuracy: 0.8639\n",
            "Epoch 73/100\n",
            "250/250 [==============================] - 0s 2ms/step - loss: 0.3294 - accuracy: 0.8640\n",
            "Epoch 74/100\n",
            "250/250 [==============================] - 0s 2ms/step - loss: 0.3285 - accuracy: 0.8665\n",
            "Epoch 75/100\n",
            "250/250 [==============================] - 0s 2ms/step - loss: 0.3279 - accuracy: 0.8639\n",
            "Epoch 76/100\n",
            "250/250 [==============================] - 0s 2ms/step - loss: 0.3285 - accuracy: 0.8646\n",
            "Epoch 77/100\n",
            "250/250 [==============================] - 0s 2ms/step - loss: 0.3271 - accuracy: 0.8651\n",
            "Epoch 78/100\n",
            "250/250 [==============================] - 0s 2ms/step - loss: 0.3272 - accuracy: 0.8643\n",
            "Epoch 79/100\n",
            "250/250 [==============================] - 0s 2ms/step - loss: 0.3271 - accuracy: 0.8640\n",
            "Epoch 80/100\n",
            "250/250 [==============================] - 0s 2ms/step - loss: 0.3270 - accuracy: 0.8639\n",
            "Epoch 81/100\n",
            "250/250 [==============================] - 0s 2ms/step - loss: 0.3282 - accuracy: 0.8656\n",
            "Epoch 82/100\n",
            "250/250 [==============================] - 0s 2ms/step - loss: 0.3275 - accuracy: 0.8625\n",
            "Epoch 83/100\n",
            "250/250 [==============================] - 0s 2ms/step - loss: 0.3274 - accuracy: 0.8643\n",
            "Epoch 84/100\n",
            "250/250 [==============================] - 0s 2ms/step - loss: 0.3264 - accuracy: 0.8649\n",
            "Epoch 85/100\n",
            "250/250 [==============================] - 0s 2ms/step - loss: 0.3264 - accuracy: 0.8671\n",
            "Epoch 86/100\n",
            "250/250 [==============================] - 0s 2ms/step - loss: 0.3268 - accuracy: 0.8641\n",
            "Epoch 87/100\n",
            "250/250 [==============================] - 0s 2ms/step - loss: 0.3262 - accuracy: 0.8650\n",
            "Epoch 88/100\n",
            "250/250 [==============================] - 0s 2ms/step - loss: 0.3267 - accuracy: 0.8643\n",
            "Epoch 89/100\n",
            "250/250 [==============================] - 0s 2ms/step - loss: 0.3262 - accuracy: 0.8654\n",
            "Epoch 90/100\n",
            "250/250 [==============================] - 0s 2ms/step - loss: 0.3269 - accuracy: 0.8669\n",
            "Epoch 91/100\n",
            "250/250 [==============================] - 0s 2ms/step - loss: 0.3257 - accuracy: 0.8661\n",
            "Epoch 92/100\n",
            "250/250 [==============================] - 0s 2ms/step - loss: 0.3262 - accuracy: 0.8634\n",
            "Epoch 93/100\n",
            "250/250 [==============================] - 0s 2ms/step - loss: 0.3255 - accuracy: 0.8650\n",
            "Epoch 94/100\n",
            "250/250 [==============================] - 0s 2ms/step - loss: 0.3256 - accuracy: 0.8635\n",
            "Epoch 95/100\n",
            "250/250 [==============================] - 0s 2ms/step - loss: 0.3252 - accuracy: 0.8669\n",
            "Epoch 96/100\n",
            "250/250 [==============================] - 0s 2ms/step - loss: 0.3256 - accuracy: 0.8640\n",
            "Epoch 97/100\n",
            "250/250 [==============================] - 0s 2ms/step - loss: 0.3247 - accuracy: 0.8634\n",
            "Epoch 98/100\n",
            "250/250 [==============================] - 0s 2ms/step - loss: 0.3262 - accuracy: 0.8641\n",
            "Epoch 99/100\n",
            "250/250 [==============================] - 0s 2ms/step - loss: 0.3252 - accuracy: 0.8631\n",
            "Epoch 100/100\n",
            "250/250 [==============================] - 0s 2ms/step - loss: 0.3247 - accuracy: 0.8652\n"
          ]
        },
        {
          "output_type": "execute_result",
          "data": {
            "text/plain": [
              "<keras.callbacks.History at 0x7f63e0848910>"
            ]
          },
          "metadata": {},
          "execution_count": 63
        }
      ]
    },
    {
      "cell_type": "code",
      "source": [
        "yp = model.predict(x_test)"
      ],
      "metadata": {
        "id": "PkJLk_E6BJed"
      },
      "execution_count": 65,
      "outputs": []
    },
    {
      "cell_type": "code",
      "source": [
        "from sklearn.metrics import confusion_matrix , classification_report\n",
        "\n",
        "print(classification_report(y_test,yp))"
      ],
      "metadata": {
        "colab": {
          "base_uri": "https://localhost:8080/",
          "height": 341
        },
        "id": "6mB_Z1NlAsVZ",
        "outputId": "8135efb5-34ac-4be9-ad72-a94300b2103d"
      },
      "execution_count": 66,
      "outputs": [
        {
          "output_type": "error",
          "ename": "ValueError",
          "evalue": "ignored",
          "traceback": [
            "\u001b[0;31m---------------------------------------------------------------------------\u001b[0m",
            "\u001b[0;31mValueError\u001b[0m                                Traceback (most recent call last)",
            "\u001b[0;32m<ipython-input-66-01a3f11b6b14>\u001b[0m in \u001b[0;36m<module>\u001b[0;34m\u001b[0m\n\u001b[1;32m      1\u001b[0m \u001b[0;32mfrom\u001b[0m \u001b[0msklearn\u001b[0m\u001b[0;34m.\u001b[0m\u001b[0mmetrics\u001b[0m \u001b[0;32mimport\u001b[0m \u001b[0mconfusion_matrix\u001b[0m \u001b[0;34m,\u001b[0m \u001b[0mclassification_report\u001b[0m\u001b[0;34m\u001b[0m\u001b[0;34m\u001b[0m\u001b[0m\n\u001b[1;32m      2\u001b[0m \u001b[0;34m\u001b[0m\u001b[0m\n\u001b[0;32m----> 3\u001b[0;31m \u001b[0mprint\u001b[0m\u001b[0;34m(\u001b[0m\u001b[0mclassification_report\u001b[0m\u001b[0;34m(\u001b[0m\u001b[0my_test\u001b[0m\u001b[0;34m,\u001b[0m\u001b[0myp\u001b[0m\u001b[0;34m)\u001b[0m\u001b[0;34m)\u001b[0m\u001b[0;34m\u001b[0m\u001b[0;34m\u001b[0m\u001b[0m\n\u001b[0m",
            "\u001b[0;32m/usr/local/lib/python3.7/dist-packages/sklearn/metrics/_classification.py\u001b[0m in \u001b[0;36mclassification_report\u001b[0;34m(y_true, y_pred, labels, target_names, sample_weight, digits, output_dict, zero_division)\u001b[0m\n\u001b[1;32m   2108\u001b[0m     \"\"\"\n\u001b[1;32m   2109\u001b[0m \u001b[0;34m\u001b[0m\u001b[0m\n\u001b[0;32m-> 2110\u001b[0;31m     \u001b[0my_type\u001b[0m\u001b[0;34m,\u001b[0m \u001b[0my_true\u001b[0m\u001b[0;34m,\u001b[0m \u001b[0my_pred\u001b[0m \u001b[0;34m=\u001b[0m \u001b[0m_check_targets\u001b[0m\u001b[0;34m(\u001b[0m\u001b[0my_true\u001b[0m\u001b[0;34m,\u001b[0m \u001b[0my_pred\u001b[0m\u001b[0;34m)\u001b[0m\u001b[0;34m\u001b[0m\u001b[0;34m\u001b[0m\u001b[0m\n\u001b[0m\u001b[1;32m   2111\u001b[0m \u001b[0;34m\u001b[0m\u001b[0m\n\u001b[1;32m   2112\u001b[0m     \u001b[0;32mif\u001b[0m \u001b[0mlabels\u001b[0m \u001b[0;32mis\u001b[0m \u001b[0;32mNone\u001b[0m\u001b[0;34m:\u001b[0m\u001b[0;34m\u001b[0m\u001b[0;34m\u001b[0m\u001b[0m\n",
            "\u001b[0;32m/usr/local/lib/python3.7/dist-packages/sklearn/metrics/_classification.py\u001b[0m in \u001b[0;36m_check_targets\u001b[0;34m(y_true, y_pred)\u001b[0m\n\u001b[1;32m     93\u001b[0m         raise ValueError(\n\u001b[1;32m     94\u001b[0m             \"Classification metrics can't handle a mix of {0} and {1} targets\".format(\n\u001b[0;32m---> 95\u001b[0;31m                 \u001b[0mtype_true\u001b[0m\u001b[0;34m,\u001b[0m \u001b[0mtype_pred\u001b[0m\u001b[0;34m\u001b[0m\u001b[0;34m\u001b[0m\u001b[0m\n\u001b[0m\u001b[1;32m     96\u001b[0m             )\n\u001b[1;32m     97\u001b[0m         )\n",
            "\u001b[0;31mValueError\u001b[0m: Classification metrics can't handle a mix of binary and continuous targets"
          ]
        }
      ]
    },
    {
      "cell_type": "code",
      "source": [
        "y_pred = []\n",
        "for element in yp:\n",
        "    if element > 0.5:\n",
        "        y_pred.append(1)\n",
        "    else:\n",
        "        y_pred.append(0)"
      ],
      "metadata": {
        "id": "05UWiKJuA_b6"
      },
      "execution_count": 67,
      "outputs": []
    },
    {
      "cell_type": "code",
      "source": [
        "print(classification_report(y_test,y_pred))"
      ],
      "metadata": {
        "colab": {
          "base_uri": "https://localhost:8080/"
        },
        "id": "HIYq2k3UBOwc",
        "outputId": "18449d4e-5a2c-418c-9484-8dee284796ed"
      },
      "execution_count": 68,
      "outputs": [
        {
          "output_type": "stream",
          "name": "stdout",
          "text": [
            "              precision    recall  f1-score   support\n",
            "\n",
            "           0       0.88      0.95      0.92      1585\n",
            "           1       0.74      0.53      0.61       415\n",
            "\n",
            "    accuracy                           0.86      2000\n",
            "   macro avg       0.81      0.74      0.77      2000\n",
            "weighted avg       0.85      0.86      0.85      2000\n",
            "\n"
          ]
        }
      ]
    },
    {
      "cell_type": "code",
      "source": [
        "import seaborn as sn\n",
        "cm = tf.math.confusion_matrix(labels=y_test,predictions=y_pred)\n",
        "\n",
        "plt.figure(figsize = (10,7))\n",
        "sn.heatmap(cm, annot=True, fmt='d')\n",
        "plt.xlabel('Predicted')\n",
        "plt.ylabel('Truth')"
      ],
      "metadata": {
        "colab": {
          "base_uri": "https://localhost:8080/",
          "height": 459
        },
        "id": "ZO6A_EfVBQg0",
        "outputId": "78406716-5720-4258-eea0-8cd548e45857"
      },
      "execution_count": 69,
      "outputs": [
        {
          "output_type": "execute_result",
          "data": {
            "text/plain": [
              "Text(69.0, 0.5, 'Truth')"
            ]
          },
          "metadata": {},
          "execution_count": 69
        },
        {
          "output_type": "display_data",
          "data": {
            "text/plain": [
              "<Figure size 720x504 with 2 Axes>"
            ],
            "image/png": "[encoded data removed]"
          },
          "metadata": {
            "needs_background": "light"
          }
        }
      ]
    },
    {
      "cell_type": "code",
      "source": [
        "df_churn['Exited'].value_counts()"
      ],
      "metadata": {
        "colab": {
          "base_uri": "https://localhost:8080/"
        },
        "id": "l6U9oWfIBTAY",
        "outputId": "b0e1491c-16c0-4c61-b9ba-6a32a6fb3fa6"
      },
      "execution_count": 70,
      "outputs": [
        {
          "output_type": "execute_result",
          "data": {
            "text/plain": [
              "0    7963\n",
              "1    2037\n",
              "Name: Exited, dtype: int64"
            ]
          },
          "metadata": {},
          "execution_count": 70
        }
      ]
    },
    {
      "cell_type": "code",
      "source": [
        "from imblearn.over_sampling import SMOTE\n",
        "sm = SMOTE()\n",
        "x_sm, y_sm = sm.fit_resample(x, y)"
      ],
      "metadata": {
        "id": "KjWJKzamBVkD"
      },
      "execution_count": 71,
      "outputs": []
    },
    {
      "cell_type": "code",
      "source": [
        "y_sm.value_counts()"
      ],
      "metadata": {
        "colab": {
          "base_uri": "https://localhost:8080/"
        },
        "id": "QuqZvPSKBXOV",
        "outputId": "6d4442de-0999-4fe9-99f2-a83ca4b2aedb"
      },
      "execution_count": 72,
      "outputs": [
        {
          "output_type": "execute_result",
          "data": {
            "text/plain": [
              "1    7963\n",
              "0    7963\n",
              "Name: Exited, dtype: int64"
            ]
          },
          "metadata": {},
          "execution_count": 72
        }
      ]
    },
    {
      "cell_type": "code",
      "source": [
        "x_train_sm, x_test_sm, y_train_sm, y_test_sm = train_test_split(x_sm,y_sm, test_size= 0.2, random_state =1, stratify = y_sm)"
      ],
      "metadata": {
        "id": "V-64GoS9BYvS"
      },
      "execution_count": 73,
      "outputs": []
    },
    {
      "cell_type": "code",
      "source": [
        "model_balanced = keras.Sequential([\n",
        "    keras.layers.Dense(13, input_shape=(13,),activation='relu'),\n",
        "    keras.layers.Dense(15, activation='relu'),\n",
        "    keras.layers.Dense(1, activation='sigmoid')\n",
        "])\n",
        "\n",
        "model_balanced.compile(optimizer='adam',\n",
        "              loss='binary_crossentropy',\n",
        "              metrics=['accuracy'])\n",
        "\n",
        "model_balanced.fit(x_train_sm, y_train_sm, epochs=100)"
      ],
      "metadata": {
        "colab": {
          "base_uri": "https://localhost:8080/"
        },
        "id": "ETZhg5nWBaiE",
        "outputId": "65c075a0-49c2-4939-8657-549d0d542e62"
      },
      "execution_count": 74,
      "outputs": [
        {
          "output_type": "stream",
          "name": "stdout",
          "text": [
            "Epoch 1/100\n",
            "399/399 [==============================] - 4s 5ms/step - loss: 0.6482 - accuracy: 0.6286\n",
            "Epoch 2/100\n",
            "399/399 [==============================] - 2s 4ms/step - loss: 0.5972 - accuracy: 0.6796\n",
            "Epoch 3/100\n",
            "399/399 [==============================] - 1s 3ms/step - loss: 0.5685 - accuracy: 0.7130\n",
            "Epoch 4/100\n",
            "399/399 [==============================] - 1s 3ms/step - loss: 0.5330 - accuracy: 0.7431\n",
            "Epoch 5/100\n",
            "399/399 [==============================] - 1s 3ms/step - loss: 0.5014 - accuracy: 0.7631\n",
            "Epoch 6/100\n",
            "399/399 [==============================] - 2s 4ms/step - loss: 0.4842 - accuracy: 0.7712\n",
            "Epoch 7/100\n",
            "399/399 [==============================] - 1s 2ms/step - loss: 0.4749 - accuracy: 0.7748\n",
            "Epoch 8/100\n",
            "399/399 [==============================] - 1s 2ms/step - loss: 0.4691 - accuracy: 0.7768\n",
            "Epoch 9/100\n",
            "399/399 [==============================] - 1s 2ms/step - loss: 0.4659 - accuracy: 0.7768\n",
            "Epoch 10/100\n",
            "399/399 [==============================] - 1s 2ms/step - loss: 0.4625 - accuracy: 0.7759\n",
            "Epoch 11/100\n",
            "399/399 [==============================] - 1s 2ms/step - loss: 0.4611 - accuracy: 0.7772\n",
            "Epoch 12/100\n",
            "399/399 [==============================] - 1s 2ms/step - loss: 0.4587 - accuracy: 0.7775\n",
            "Epoch 13/100\n",
            "399/399 [==============================] - 1s 2ms/step - loss: 0.4567 - accuracy: 0.7770\n",
            "Epoch 14/100\n",
            "399/399 [==============================] - 1s 2ms/step - loss: 0.4556 - accuracy: 0.7782\n",
            "Epoch 15/100\n",
            "399/399 [==============================] - 1s 2ms/step - loss: 0.4519 - accuracy: 0.7797\n",
            "Epoch 16/100\n",
            "399/399 [==============================] - 1s 2ms/step - loss: 0.4521 - accuracy: 0.7795\n",
            "Epoch 17/100\n",
            "399/399 [==============================] - 1s 2ms/step - loss: 0.4494 - accuracy: 0.7824\n",
            "Epoch 18/100\n",
            "399/399 [==============================] - 1s 2ms/step - loss: 0.4493 - accuracy: 0.7816\n",
            "Epoch 19/100\n",
            "399/399 [==============================] - 1s 2ms/step - loss: 0.4480 - accuracy: 0.7827\n",
            "Epoch 20/100\n",
            "399/399 [==============================] - 1s 2ms/step - loss: 0.4465 - accuracy: 0.7816\n",
            "Epoch 21/100\n",
            "399/399 [==============================] - 1s 2ms/step - loss: 0.4451 - accuracy: 0.7859\n",
            "Epoch 22/100\n",
            "399/399 [==============================] - 1s 2ms/step - loss: 0.4446 - accuracy: 0.7830\n",
            "Epoch 23/100\n",
            "399/399 [==============================] - 1s 2ms/step - loss: 0.4432 - accuracy: 0.7855\n",
            "Epoch 24/100\n",
            "399/399 [==============================] - 1s 2ms/step - loss: 0.4424 - accuracy: 0.7830\n",
            "Epoch 25/100\n",
            "399/399 [==============================] - 1s 2ms/step - loss: 0.4413 - accuracy: 0.7845\n",
            "Epoch 26/100\n",
            "399/399 [==============================] - 1s 2ms/step - loss: 0.4403 - accuracy: 0.7874\n",
            "Epoch 27/100\n",
            "399/399 [==============================] - 1s 2ms/step - loss: 0.4397 - accuracy: 0.7873\n",
            "Epoch 28/100\n",
            "399/399 [==============================] - 1s 2ms/step - loss: 0.4393 - accuracy: 0.7867\n",
            "Epoch 29/100\n",
            "399/399 [==============================] - 1s 2ms/step - loss: 0.4377 - accuracy: 0.7911\n",
            "Epoch 30/100\n",
            "399/399 [==============================] - 1s 2ms/step - loss: 0.4377 - accuracy: 0.7904\n",
            "Epoch 31/100\n",
            "399/399 [==============================] - 1s 2ms/step - loss: 0.4359 - accuracy: 0.7907\n",
            "Epoch 32/100\n",
            "399/399 [==============================] - 1s 2ms/step - loss: 0.4359 - accuracy: 0.7884\n",
            "Epoch 33/100\n",
            "399/399 [==============================] - 1s 2ms/step - loss: 0.4344 - accuracy: 0.7900\n",
            "Epoch 34/100\n",
            "399/399 [==============================] - 1s 2ms/step - loss: 0.4353 - accuracy: 0.7908\n",
            "Epoch 35/100\n",
            "399/399 [==============================] - 2s 4ms/step - loss: 0.4332 - accuracy: 0.7895\n",
            "Epoch 36/100\n",
            "399/399 [==============================] - 1s 2ms/step - loss: 0.4335 - accuracy: 0.7896\n",
            "Epoch 37/100\n",
            "399/399 [==============================] - 1s 2ms/step - loss: 0.4328 - accuracy: 0.7891\n",
            "Epoch 38/100\n",
            "399/399 [==============================] - 1s 2ms/step - loss: 0.4323 - accuracy: 0.7906\n",
            "Epoch 39/100\n",
            "399/399 [==============================] - 1s 2ms/step - loss: 0.4318 - accuracy: 0.7917\n",
            "Epoch 40/100\n",
            "399/399 [==============================] - 1s 2ms/step - loss: 0.4308 - accuracy: 0.7948\n",
            "Epoch 41/100\n",
            "399/399 [==============================] - 1s 2ms/step - loss: 0.4305 - accuracy: 0.7954\n",
            "Epoch 42/100\n",
            "399/399 [==============================] - 1s 2ms/step - loss: 0.4302 - accuracy: 0.7954\n",
            "Epoch 43/100\n",
            "399/399 [==============================] - 1s 2ms/step - loss: 0.4302 - accuracy: 0.7929\n",
            "Epoch 44/100\n",
            "399/399 [==============================] - 1s 2ms/step - loss: 0.4291 - accuracy: 0.7937\n",
            "Epoch 45/100\n",
            "399/399 [==============================] - 1s 2ms/step - loss: 0.4287 - accuracy: 0.7948\n",
            "Epoch 46/100\n",
            "399/399 [==============================] - 1s 2ms/step - loss: 0.4287 - accuracy: 0.7962\n",
            "Epoch 47/100\n",
            "399/399 [==============================] - 1s 2ms/step - loss: 0.4272 - accuracy: 0.7954\n",
            "Epoch 48/100\n",
            "399/399 [==============================] - 1s 3ms/step - loss: 0.4279 - accuracy: 0.7962\n",
            "Epoch 49/100\n",
            "399/399 [==============================] - 2s 4ms/step - loss: 0.4266 - accuracy: 0.7976\n",
            "Epoch 50/100\n",
            "399/399 [==============================] - 2s 4ms/step - loss: 0.4259 - accuracy: 0.7956\n",
            "Epoch 51/100\n",
            "399/399 [==============================] - 1s 3ms/step - loss: 0.4257 - accuracy: 0.7982\n",
            "Epoch 52/100\n",
            "399/399 [==============================] - 1s 2ms/step - loss: 0.4258 - accuracy: 0.7973\n",
            "Epoch 53/100\n",
            "399/399 [==============================] - 1s 2ms/step - loss: 0.4247 - accuracy: 0.7995\n",
            "Epoch 54/100\n",
            "399/399 [==============================] - 1s 2ms/step - loss: 0.4237 - accuracy: 0.7985\n",
            "Epoch 55/100\n",
            "399/399 [==============================] - 1s 2ms/step - loss: 0.4238 - accuracy: 0.7987\n",
            "Epoch 56/100\n",
            "399/399 [==============================] - 1s 2ms/step - loss: 0.4247 - accuracy: 0.7998\n",
            "Epoch 57/100\n",
            "399/399 [==============================] - 1s 2ms/step - loss: 0.4226 - accuracy: 0.7998\n",
            "Epoch 58/100\n",
            "399/399 [==============================] - 1s 2ms/step - loss: 0.4229 - accuracy: 0.7997\n",
            "Epoch 59/100\n",
            "399/399 [==============================] - 1s 2ms/step - loss: 0.4206 - accuracy: 0.8015\n",
            "Epoch 60/100\n",
            "399/399 [==============================] - 1s 2ms/step - loss: 0.4206 - accuracy: 0.8044\n",
            "Epoch 61/100\n",
            "399/399 [==============================] - 1s 2ms/step - loss: 0.4193 - accuracy: 0.8035\n",
            "Epoch 62/100\n",
            "399/399 [==============================] - 1s 2ms/step - loss: 0.4188 - accuracy: 0.8049\n",
            "Epoch 63/100\n",
            "399/399 [==============================] - 1s 2ms/step - loss: 0.4184 - accuracy: 0.8064\n",
            "Epoch 64/100\n",
            "399/399 [==============================] - 1s 2ms/step - loss: 0.4176 - accuracy: 0.8023\n",
            "Epoch 65/100\n",
            "399/399 [==============================] - 1s 2ms/step - loss: 0.4170 - accuracy: 0.8071\n",
            "Epoch 66/100\n",
            "399/399 [==============================] - 1s 2ms/step - loss: 0.4165 - accuracy: 0.8042\n",
            "Epoch 67/100\n",
            "399/399 [==============================] - 1s 2ms/step - loss: 0.4159 - accuracy: 0.8074\n",
            "Epoch 68/100\n",
            "399/399 [==============================] - 1s 2ms/step - loss: 0.4148 - accuracy: 0.8065\n",
            "Epoch 69/100\n",
            "399/399 [==============================] - 1s 2ms/step - loss: 0.4141 - accuracy: 0.8075\n",
            "Epoch 70/100\n",
            "399/399 [==============================] - 1s 2ms/step - loss: 0.4144 - accuracy: 0.8071\n",
            "Epoch 71/100\n",
            "399/399 [==============================] - 1s 2ms/step - loss: 0.4140 - accuracy: 0.8072\n",
            "Epoch 72/100\n",
            "399/399 [==============================] - 1s 2ms/step - loss: 0.4123 - accuracy: 0.8100\n",
            "Epoch 73/100\n",
            "399/399 [==============================] - 1s 2ms/step - loss: 0.4123 - accuracy: 0.8089\n",
            "Epoch 74/100\n",
            "399/399 [==============================] - 1s 2ms/step - loss: 0.4120 - accuracy: 0.8089\n",
            "Epoch 75/100\n",
            "399/399 [==============================] - 1s 2ms/step - loss: 0.4108 - accuracy: 0.8120\n",
            "Epoch 76/100\n",
            "399/399 [==============================] - 1s 2ms/step - loss: 0.4112 - accuracy: 0.8089\n",
            "Epoch 77/100\n",
            "399/399 [==============================] - 1s 2ms/step - loss: 0.4108 - accuracy: 0.8130\n",
            "Epoch 78/100\n",
            "399/399 [==============================] - 1s 2ms/step - loss: 0.4095 - accuracy: 0.8147\n",
            "Epoch 79/100\n",
            "399/399 [==============================] - 1s 2ms/step - loss: 0.4093 - accuracy: 0.8133\n",
            "Epoch 80/100\n",
            "399/399 [==============================] - 1s 2ms/step - loss: 0.4089 - accuracy: 0.8123\n",
            "Epoch 81/100\n",
            "399/399 [==============================] - 1s 2ms/step - loss: 0.4082 - accuracy: 0.8108\n",
            "Epoch 82/100\n",
            "399/399 [==============================] - 1s 2ms/step - loss: 0.4090 - accuracy: 0.8127\n",
            "Epoch 83/100\n",
            "399/399 [==============================] - 1s 2ms/step - loss: 0.4077 - accuracy: 0.8126\n",
            "Epoch 84/100\n",
            "399/399 [==============================] - 1s 2ms/step - loss: 0.4062 - accuracy: 0.8130\n",
            "Epoch 85/100\n",
            "399/399 [==============================] - 1s 2ms/step - loss: 0.4074 - accuracy: 0.8115\n",
            "Epoch 86/100\n",
            "399/399 [==============================] - 1s 2ms/step - loss: 0.4058 - accuracy: 0.8166\n",
            "Epoch 87/100\n",
            "399/399 [==============================] - 1s 2ms/step - loss: 0.4050 - accuracy: 0.8136\n",
            "Epoch 88/100\n",
            "399/399 [==============================] - 1s 2ms/step - loss: 0.4055 - accuracy: 0.8161\n",
            "Epoch 89/100\n",
            "399/399 [==============================] - 1s 2ms/step - loss: 0.4045 - accuracy: 0.8133\n",
            "Epoch 90/100\n",
            "399/399 [==============================] - 1s 2ms/step - loss: 0.4044 - accuracy: 0.8133\n",
            "Epoch 91/100\n",
            "399/399 [==============================] - 1s 2ms/step - loss: 0.4029 - accuracy: 0.8145\n",
            "Epoch 92/100\n",
            "399/399 [==============================] - 1s 2ms/step - loss: 0.4034 - accuracy: 0.8126\n",
            "Epoch 93/100\n",
            "399/399 [==============================] - 1s 2ms/step - loss: 0.4023 - accuracy: 0.8155\n",
            "Epoch 94/100\n",
            "399/399 [==============================] - 1s 2ms/step - loss: 0.4035 - accuracy: 0.8151\n",
            "Epoch 95/100\n",
            "399/399 [==============================] - 1s 2ms/step - loss: 0.4030 - accuracy: 0.8166\n",
            "Epoch 96/100\n",
            "399/399 [==============================] - 1s 2ms/step - loss: 0.4013 - accuracy: 0.8159\n",
            "Epoch 97/100\n",
            "399/399 [==============================] - 1s 2ms/step - loss: 0.4019 - accuracy: 0.8188\n",
            "Epoch 98/100\n",
            "399/399 [==============================] - 1s 2ms/step - loss: 0.4010 - accuracy: 0.8184\n",
            "Epoch 99/100\n",
            "399/399 [==============================] - 1s 2ms/step - loss: 0.4012 - accuracy: 0.8171\n",
            "Epoch 100/100\n",
            "399/399 [==============================] - 1s 2ms/step - loss: 0.4013 - accuracy: 0.8173\n"
          ]
        },
        {
          "output_type": "execute_result",
          "data": {
            "text/plain": [
              "<keras.callbacks.History at 0x7f63dd6db990>"
            ]
          },
          "metadata": {},
          "execution_count": 74
        }
      ]
    },
    {
      "cell_type": "code",
      "source": [
        "model_balanced.evaluate(x_test_sm, y_test_sm)"
      ],
      "metadata": {
        "colab": {
          "base_uri": "https://localhost:8080/"
        },
        "id": "DpuGNqHLBcm4",
        "outputId": "b63148eb-e3b1-46b4-8d43-a9b275b3e0b3"
      },
      "execution_count": 75,
      "outputs": [
        {
          "output_type": "stream",
          "name": "stdout",
          "text": [
            "100/100 [==============================] - 0s 1ms/step - loss: 0.4185 - accuracy: 0.7994\n"
          ]
        },
        {
          "output_type": "execute_result",
          "data": {
            "text/plain": [
              "[0.4185282588005066, 0.799435019493103]"
            ]
          },
          "metadata": {},
          "execution_count": 75
        }
      ]
    },
    {
      "cell_type": "code",
      "source": [
        "yp = model_balanced.predict(x_test_sm)"
      ],
      "metadata": {
        "id": "5nMeYpl8BzZz"
      },
      "execution_count": 76,
      "outputs": []
    },
    {
      "cell_type": "code",
      "source": [
        "y_pred = []\n",
        "for element in yp:\n",
        "    if (element > 0.5):\n",
        "        y_pred.append(1)\n",
        "    else:\n",
        "        y_pred.append(0)"
      ],
      "metadata": {
        "id": "ZSSAYk_VBzXK"
      },
      "execution_count": 77,
      "outputs": []
    },
    {
      "cell_type": "code",
      "source": [
        "print(classification_report(y_test_sm,y_pred))"
      ],
      "metadata": {
        "colab": {
          "base_uri": "https://localhost:8080/"
        },
        "id": "PPXOYTARBzUl",
        "outputId": "b30c6c27-7858-47ae-a293-150f907c5044"
      },
      "execution_count": 78,
      "outputs": [
        {
          "output_type": "stream",
          "name": "stdout",
          "text": [
            "              precision    recall  f1-score   support\n",
            "\n",
            "           0       0.80      0.80      0.80      1593\n",
            "           1       0.80      0.80      0.80      1593\n",
            "\n",
            "    accuracy                           0.80      3186\n",
            "   macro avg       0.80      0.80      0.80      3186\n",
            "weighted avg       0.80      0.80      0.80      3186\n",
            "\n"
          ]
        }
      ]
    },
    {
      "cell_type": "code",
      "source": [
        "cm_bal = tf.math.confusion_matrix(labels=y_test_sm,predictions=y_pred)\n",
        "\n",
        "plt.figure(figsize = (10,7))\n",
        "sn.heatmap(cm_bal, annot=True, fmt='d')\n",
        "plt.xlabel('Predicted')\n",
        "plt.ylabel('Truth')"
      ],
      "metadata": {
        "colab": {
          "base_uri": "https://localhost:8080/",
          "height": 459
        },
        "id": "t_37ICd1BzRc",
        "outputId": "f5cd5209-5b77-4800-f418-7c9402432379"
      },
      "execution_count": 79,
      "outputs": [
        {
          "output_type": "execute_result",
          "data": {
            "text/plain": [
              "Text(69.0, 0.5, 'Truth')"
            ]
          },
          "metadata": {},
          "execution_count": 79
        },
        {
          "output_type": "display_data",
          "data": {
            "text/plain": [
              "<Figure size 720x504 with 2 Axes>"
            ],
            "image/png": "[encoded data removed]"
          },
          "metadata": {
            "needs_background": "light"
          }
        }
      ]
    },
    {
      "cell_type": "code",
      "source": [],
      "metadata": {
        "id": "QKbMIOLQBzNm"
      },
      "execution_count": null,
      "outputs": []
    },
    {
      "cell_type": "code",
      "source": [],
      "metadata": {
        "id": "wWEOYZzxBy_A"
      },
      "execution_count": null,
      "outputs": []
    }
  ]
}